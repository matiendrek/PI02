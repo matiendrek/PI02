{
 "cells": [
  {
   "attachments": {},
   "cell_type": "markdown",
   "metadata": {},
   "source": [
    "Readme.md\n",
    "\n",
    "Implementaremos un modelo de clasificación de machine learning con aprendizaje supervisado que permita clasificar el precio de las propiedades en venta de una empresa iversora en el rubro inmobiliario de Estados Unidos, utilizando los datos que se han puesto a su disposición."
   ]
  }
 ],
 "metadata": {
  "kernelspec": {
   "display_name": "Python 3",
   "language": "python",
   "name": "python3"
  },
  "language_info": {
   "name": "python",
   "version": "3.11.1 (tags/v3.11.1:a7a450f, Dec  6 2022, 19:58:39) [MSC v.1934 64 bit (AMD64)]"
  },
  "orig_nbformat": 4,
  "vscode": {
   "interpreter": {
    "hash": "c6c072a09c859947f00a0288d56ee631f856d36224d151f558d7a5d5be344ddf"
   }
  }
 },
 "nbformat": 4,
 "nbformat_minor": 2
}
